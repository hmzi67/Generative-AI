{
 "cells": [
  {
   "cell_type": "code",
   "execution_count": 5,
   "metadata": {},
   "outputs": [
    {
     "name": "stdout",
     "output_type": "stream",
     "text": [
      "['coding', 'sehri', 'recite Quran', 'exit']\n"
     ]
    }
   ],
   "source": [
    "temp = True\n",
    "todoList: list[str] = []\n",
    "while(temp):\n",
    "    userInput = input(\"Enter your task:\")\n",
    "    if(userInput == 'exit'):\n",
    "        temp = False\n",
    "    todoList.append(userInput)\n",
    "print(todoList)"
   ]
  }
 ],
 "metadata": {
  "kernelspec": {
   "display_name": "Python 3",
   "language": "python",
   "name": "python3"
  },
  "language_info": {
   "codemirror_mode": {
    "name": "ipython",
    "version": 3
   },
   "file_extension": ".py",
   "mimetype": "text/x-python",
   "name": "python",
   "nbconvert_exporter": "python",
   "pygments_lexer": "ipython3",
   "version": "3.12.2"
  }
 },
 "nbformat": 4,
 "nbformat_minor": 2
}
